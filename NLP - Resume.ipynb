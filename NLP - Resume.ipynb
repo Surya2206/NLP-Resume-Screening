{
 "cells": [
  {
   "cell_type": "code",
   "execution_count": 60,
   "id": "dd4001d1",
   "metadata": {},
   "outputs": [],
   "source": [
    "import pandas as pd\n",
    "import re\n"
   ]
  },
  {
   "cell_type": "markdown",
   "id": "28238e45",
   "metadata": {},
   "source": [
    "# Data Upload"
   ]
  },
  {
   "cell_type": "code",
   "execution_count": 61,
   "id": "7f5bc96c",
   "metadata": {},
   "outputs": [],
   "source": [
    "df = pd.read_csv('Resume1.csv')"
   ]
  },
  {
   "cell_type": "code",
   "execution_count": 62,
   "id": "5cff7568",
   "metadata": {},
   "outputs": [
    {
     "data": {
      "text/html": [
       "<div>\n",
       "<style scoped>\n",
       "    .dataframe tbody tr th:only-of-type {\n",
       "        vertical-align: middle;\n",
       "    }\n",
       "\n",
       "    .dataframe tbody tr th {\n",
       "        vertical-align: top;\n",
       "    }\n",
       "\n",
       "    .dataframe thead th {\n",
       "        text-align: right;\n",
       "    }\n",
       "</style>\n",
       "<table border=\"1\" class=\"dataframe\">\n",
       "  <thead>\n",
       "    <tr style=\"text-align: right;\">\n",
       "      <th></th>\n",
       "      <th>ID</th>\n",
       "      <th>Resume_str</th>\n",
       "      <th>Resume_html</th>\n",
       "      <th>Category</th>\n",
       "    </tr>\n",
       "  </thead>\n",
       "  <tbody>\n",
       "    <tr>\n",
       "      <th>0</th>\n",
       "      <td>16852973</td>\n",
       "      <td>HR ADMINISTRATOR/MARKETING ASSOCIATE\\...</td>\n",
       "      <td>&lt;div class=\"fontsize fontface vmargins hmargin...</td>\n",
       "      <td>HR</td>\n",
       "    </tr>\n",
       "    <tr>\n",
       "      <th>1</th>\n",
       "      <td>22323967</td>\n",
       "      <td>HR SPECIALIST, US HR OPERATIONS      ...</td>\n",
       "      <td>&lt;div class=\"fontsize fontface vmargins hmargin...</td>\n",
       "      <td>HR</td>\n",
       "    </tr>\n",
       "    <tr>\n",
       "      <th>2</th>\n",
       "      <td>33176873</td>\n",
       "      <td>HR DIRECTOR       Summary      Over 2...</td>\n",
       "      <td>&lt;div class=\"fontsize fontface vmargins hmargin...</td>\n",
       "      <td>HR</td>\n",
       "    </tr>\n",
       "    <tr>\n",
       "      <th>3</th>\n",
       "      <td>27018550</td>\n",
       "      <td>HR SPECIALIST       Summary    Dedica...</td>\n",
       "      <td>&lt;div class=\"fontsize fontface vmargins hmargin...</td>\n",
       "      <td>HR</td>\n",
       "    </tr>\n",
       "    <tr>\n",
       "      <th>4</th>\n",
       "      <td>17812897</td>\n",
       "      <td>HR MANAGER         Skill Highlights  ...</td>\n",
       "      <td>&lt;div class=\"fontsize fontface vmargins hmargin...</td>\n",
       "      <td>HR</td>\n",
       "    </tr>\n",
       "    <tr>\n",
       "      <th>...</th>\n",
       "      <td>...</td>\n",
       "      <td>...</td>\n",
       "      <td>...</td>\n",
       "      <td>...</td>\n",
       "    </tr>\n",
       "    <tr>\n",
       "      <th>2479</th>\n",
       "      <td>99416532</td>\n",
       "      <td>RANK: SGT/E-5 NON- COMMISSIONED OFFIC...</td>\n",
       "      <td>&lt;div class=\"fontsize fontface vmargins hmargin...</td>\n",
       "      <td>AVIATION</td>\n",
       "    </tr>\n",
       "    <tr>\n",
       "      <th>2480</th>\n",
       "      <td>24589765</td>\n",
       "      <td>GOVERNMENT RELATIONS, COMMUNICATIONS ...</td>\n",
       "      <td>&lt;div class=\"fontsize fontface vmargins hmargin...</td>\n",
       "      <td>AVIATION</td>\n",
       "    </tr>\n",
       "    <tr>\n",
       "      <th>2481</th>\n",
       "      <td>31605080</td>\n",
       "      <td>GEEK SQUAD AGENT         Professional...</td>\n",
       "      <td>&lt;div class=\"fontsize fontface vmargins hmargin...</td>\n",
       "      <td>AVIATION</td>\n",
       "    </tr>\n",
       "    <tr>\n",
       "      <th>2482</th>\n",
       "      <td>21190805</td>\n",
       "      <td>PROGRAM DIRECTOR / OFFICE MANAGER    ...</td>\n",
       "      <td>&lt;div class=\"fontsize fontface vmargins hmargin...</td>\n",
       "      <td>AVIATION</td>\n",
       "    </tr>\n",
       "    <tr>\n",
       "      <th>2483</th>\n",
       "      <td>37473139</td>\n",
       "      <td>STOREKEEPER II       Professional Sum...</td>\n",
       "      <td>&lt;div class=\"fontsize fontface vmargins hmargin...</td>\n",
       "      <td>AVIATION</td>\n",
       "    </tr>\n",
       "  </tbody>\n",
       "</table>\n",
       "<p>2484 rows × 4 columns</p>\n",
       "</div>"
      ],
      "text/plain": [
       "            ID                                         Resume_str  \\\n",
       "0     16852973           HR ADMINISTRATOR/MARKETING ASSOCIATE\\...   \n",
       "1     22323967           HR SPECIALIST, US HR OPERATIONS      ...   \n",
       "2     33176873           HR DIRECTOR       Summary      Over 2...   \n",
       "3     27018550           HR SPECIALIST       Summary    Dedica...   \n",
       "4     17812897           HR MANAGER         Skill Highlights  ...   \n",
       "...        ...                                                ...   \n",
       "2479  99416532           RANK: SGT/E-5 NON- COMMISSIONED OFFIC...   \n",
       "2480  24589765           GOVERNMENT RELATIONS, COMMUNICATIONS ...   \n",
       "2481  31605080           GEEK SQUAD AGENT         Professional...   \n",
       "2482  21190805           PROGRAM DIRECTOR / OFFICE MANAGER    ...   \n",
       "2483  37473139           STOREKEEPER II       Professional Sum...   \n",
       "\n",
       "                                            Resume_html  Category  \n",
       "0     <div class=\"fontsize fontface vmargins hmargin...        HR  \n",
       "1     <div class=\"fontsize fontface vmargins hmargin...        HR  \n",
       "2     <div class=\"fontsize fontface vmargins hmargin...        HR  \n",
       "3     <div class=\"fontsize fontface vmargins hmargin...        HR  \n",
       "4     <div class=\"fontsize fontface vmargins hmargin...        HR  \n",
       "...                                                 ...       ...  \n",
       "2479  <div class=\"fontsize fontface vmargins hmargin...  AVIATION  \n",
       "2480  <div class=\"fontsize fontface vmargins hmargin...  AVIATION  \n",
       "2481  <div class=\"fontsize fontface vmargins hmargin...  AVIATION  \n",
       "2482  <div class=\"fontsize fontface vmargins hmargin...  AVIATION  \n",
       "2483  <div class=\"fontsize fontface vmargins hmargin...  AVIATION  \n",
       "\n",
       "[2484 rows x 4 columns]"
      ]
     },
     "execution_count": 62,
     "metadata": {},
     "output_type": "execute_result"
    }
   ],
   "source": [
    "df"
   ]
  },
  {
   "cell_type": "code",
   "execution_count": 63,
   "id": "f95a6d9d",
   "metadata": {},
   "outputs": [
    {
     "data": {
      "text/plain": [
       "(2484, 4)"
      ]
     },
     "execution_count": 63,
     "metadata": {},
     "output_type": "execute_result"
    }
   ],
   "source": [
    "df.shape"
   ]
  },
  {
   "cell_type": "code",
   "execution_count": 64,
   "id": "08705c24",
   "metadata": {},
   "outputs": [
    {
     "data": {
      "text/plain": [
       "ID             0\n",
       "Resume_str     0\n",
       "Resume_html    0\n",
       "Category       0\n",
       "dtype: int64"
      ]
     },
     "execution_count": 64,
     "metadata": {},
     "output_type": "execute_result"
    }
   ],
   "source": [
    "df.isnull().sum()"
   ]
  },
  {
   "cell_type": "code",
   "execution_count": 65,
   "id": "81f5a2e4",
   "metadata": {},
   "outputs": [
    {
     "data": {
      "text/plain": [
       "array(['HR', 'DESIGNER', 'INFORMATION-TECHNOLOGY', 'TEACHER', 'ADVOCATE',\n",
       "       'BUSINESS-DEVELOPMENT', 'HEALTHCARE', 'FITNESS', 'AGRICULTURE',\n",
       "       'BPO', 'SALES', 'CONSULTANT', 'DIGITAL-MEDIA', 'AUTOMOBILE',\n",
       "       'CHEF', 'FINANCE', 'APPAREL', 'ENGINEERING', 'ACCOUNTANT',\n",
       "       'CONSTRUCTION', 'PUBLIC-RELATIONS', 'BANKING', 'ARTS', 'AVIATION'],\n",
       "      dtype=object)"
      ]
     },
     "execution_count": 65,
     "metadata": {},
     "output_type": "execute_result"
    }
   ],
   "source": [
    "df['Category'].unique()"
   ]
  },
  {
   "cell_type": "code",
   "execution_count": 66,
   "id": "7ededc57",
   "metadata": {},
   "outputs": [
    {
     "data": {
      "text/plain": [
       "INFORMATION-TECHNOLOGY    120\n",
       "BUSINESS-DEVELOPMENT      120\n",
       "FINANCE                   118\n",
       "ADVOCATE                  118\n",
       "ACCOUNTANT                118\n",
       "ENGINEERING               118\n",
       "CHEF                      118\n",
       "AVIATION                  117\n",
       "FITNESS                   117\n",
       "SALES                     116\n",
       "BANKING                   115\n",
       "HEALTHCARE                115\n",
       "CONSULTANT                115\n",
       "CONSTRUCTION              112\n",
       "PUBLIC-RELATIONS          111\n",
       "HR                        110\n",
       "DESIGNER                  107\n",
       "ARTS                      103\n",
       "TEACHER                   102\n",
       "APPAREL                    97\n",
       "DIGITAL-MEDIA              96\n",
       "AGRICULTURE                63\n",
       "AUTOMOBILE                 36\n",
       "BPO                        22\n",
       "Name: Category, dtype: int64"
      ]
     },
     "execution_count": 66,
     "metadata": {},
     "output_type": "execute_result"
    }
   ],
   "source": [
    "df['Category'].value_counts()"
   ]
  },
  {
   "cell_type": "code",
   "execution_count": 67,
   "id": "66bc53d7",
   "metadata": {},
   "outputs": [
    {
     "data": {
      "text/plain": [
       "\"         HR ADMINISTRATOR/MARKETING ASSOCIATE\\n\\nHR ADMINISTRATOR       Summary     Dedicated Customer Service Manager with 15+ years of experience in Hospitality and Customer Service Management.   Respected builder and leader of customer-focused teams; strives to instill a shared, enthusiastic commitment to customer service.         Highlights         Focused on customer satisfaction  Team management  Marketing savvy  Conflict resolution techniques     Training and development  Skilled multi-tasker  Client relations specialist           Accomplishments      Missouri DOT Supervisor Training Certification  Certified by IHG in Customer Loyalty and Marketing by Segment   Hilton Worldwide General Manager Training Certification  Accomplished Trainer for cross server hospitality systems such as    Hilton OnQ  ,   Micros    Opera PMS   , Fidelio    OPERA    Reservation System (ORS) ,   Holidex    Completed courses and seminars in customer service, sales strategies, inventory control, loss prevention, safety, time management, leadership and performance assessment.        Experience      HR Administrator/Marketing Associate\\n\\nHR Administrator     Dec 2013   to   Current      Company Name   －   City  ,   State     Helps to develop policies, directs and coordinates activities such as employment, compensation, labor relations, benefits, training, and employee services.  Prepares employee separation notices and related documentation  Keeps records of benefits plans participation such as insurance and pension plan, personnel transactions such as hires, promotions, transfers, performance reviews, and terminations, and employee statistics for government reporting.  Advises management in appropriate resolution of employee relations issues.  Administers benefits programs such as life, health, dental, insurance, pension plans, vacation, sick leave, leave of absence, and employee assistance.     Marketing Associate \\xa0   Designed and created marketing collateral for sales meetings, trade shows and company executives.  Managed the in-house advertising program consisting of print and media collateral pieces.  Assisted in the complete design and launch of the company's website in 2 months.  Created an official company page on Facebook to facilitate interaction with customers.  Analyzed ratings and programming features of competitors to evaluate the effectiveness of marketing strategies.         Advanced Medical Claims Analyst     Mar 2012   to   Dec 2013      Company Name   －   City  ,   State     Reviewed medical bills for the accuracy of the treatments, tests, and hospital stays prior to sanctioning the claims.  Trained to interpret the codes (ICD-9, CPT) and terminology commonly used in medical billing to fully understand the paperwork that is submitted by healthcare providers.  Required to have organizational and analytical skills as well as computer skills, knowledge of medical terminology and procedures, statistics, billing standards, data analysis and laws regarding medical billing.         Assistant General Manager     Jun 2010   to   Dec 2010      Company Name   －   City  ,   State     Performed duties including but not limited to, budgeting and financial management, accounting, human resources, payroll and purchasing.  Established and maintained close working relationships with all departments of the hotel to ensure maximum operation, productivity, morale and guest service.  Handled daily operations and reported directly to the corporate office.  Hired and trained staff on overall objectives and goals with an emphasis on high customer service.  Marketing and Advertising, working on public relations with the media, government and local businesses and Chamber of Commerce.         Executive Support / Marketing Assistant     Jul 2007   to   Jun 2010      Company Name   －   City  ,   State     Provided assistance to various department heads - Executive, Marketing, Customer Service, Human Resources.  Managed front-end operations to ensure friendly and efficient transactions.  Ensured the swift resolution of customer issues to preserve customer loyalty while complying with company policies.  Exemplified the second-to-none customer service delivery in all interactions with customers and potential clients.         Reservation & Front Office Manager     Jun 2004   to   Jul 2007      Company Name   －   City  ,   State          Owner/ Partner     Dec 2001   to   May 2004      Company Name   －   City  ,   State          Price Integrity Coordinator     Aug 1999   to   Dec 2001      Company Name   －   City  ,   State          Education      N/A  ,   Business Administration   1999     Jefferson College   －   City  ,   State       Business Administration  Marketing / Advertising         High School Diploma  ,   College Prep. studies   1998     Sainte Genevieve Senior High   －   City  ,   State       Awarded American Shrubel Leadership Scholarship to Jefferson College         Skills     Accounting, ads, advertising, analytical skills, benefits, billing, budgeting, clients, Customer Service, data analysis, delivery, documentation, employee relations, financial management, government relations, Human Resources, insurance, labor relations, layout, Marketing, marketing collateral, medical billing, medical terminology, office, organizational, payroll, performance reviews, personnel, policies, posters, presentations, public relations, purchasing, reporting, statistics, website.    \""
      ]
     },
     "execution_count": 67,
     "metadata": {},
     "output_type": "execute_result"
    }
   ],
   "source": [
    "df['Resume_str'][0]"
   ]
  },
  {
   "cell_type": "code",
   "execution_count": 68,
   "id": "8d24974f",
   "metadata": {},
   "outputs": [
    {
     "name": "stderr",
     "output_type": "stream",
     "text": [
      "[nltk_data] Downloading package stopwords to\n",
      "[nltk_data]     C:\\Users\\surya\\AppData\\Roaming\\nltk_data...\n",
      "[nltk_data]   Package stopwords is already up-to-date!\n"
     ]
    },
    {
     "data": {
      "text/plain": [
       "True"
      ]
     },
     "execution_count": 68,
     "metadata": {},
     "output_type": "execute_result"
    }
   ],
   "source": [
    "import nltk\n",
    "from nltk.corpus import stopwords\n",
    "nltk.download('stopwords')"
   ]
  },
  {
   "cell_type": "markdown",
   "id": "639b4549",
   "metadata": {},
   "source": [
    "# Data Preprocessing                              "
   ]
  },
  {
   "cell_type": "code",
   "execution_count": 70,
   "id": "16656511",
   "metadata": {},
   "outputs": [],
   "source": [
    "def NewResume(txt):\n",
    "    # Remove url \n",
    "    cleanText = re.sub(r'(http|https|ftp|ssh)://([\\w_-]+(?:(?:\\.[\\w_-]+)+))([\\w.,@?^=%&:/~+#-]*[\\w@?^=%&/~+#-])?', '' , txt)\n",
    "    # Removing special characters\n",
    "    cleanText = re.sub('[^a-z A-z 0-9-]+', '', cleanText)\n",
    "    # remove punctuations\n",
    "    cleanText = re.sub('[%s]' % re.escape(\"\"\"!\"#$%&'()*+,-./:;<=>?@[\\]^_`{|}~\"\"\"), ' ', cleanText)\n",
    "    # Remove any additional spaces    \n",
    "    cleanText = re.sub('\\s+', ' ', cleanText)\n",
    "    return cleanText"
   ]
  },
  {
   "cell_type": "code",
   "execution_count": 71,
   "id": "93b7f972",
   "metadata": {},
   "outputs": [],
   "source": [
    "df['Resume_str'] = df['Resume_str'].apply(lambda x: NewResume(x))\n"
   ]
  },
  {
   "cell_type": "code",
   "execution_count": 72,
   "id": "bc7cdb9d",
   "metadata": {
    "scrolled": false
   },
   "outputs": [
    {
     "data": {
      "text/plain": [
       "' HR ADMINISTRATORMARKETING ASSOCIATEHR ADMINISTRATOR Summary Dedicated Customer Service Manager with 15 years of experience in Hospitality and Customer Service Management Respected builder and leader of customer focused teams strives to instill a shared enthusiastic commitment to customer service Highlights Focused on customer satisfaction Team management Marketing savvy Conflict resolution techniques Training and development Skilled multi tasker Client relations specialist Accomplishments Missouri DOT Supervisor Training Certification Certified by IHG in Customer Loyalty and Marketing by Segment Hilton Worldwide General Manager Training Certification Accomplished Trainer for cross server hospitality systems such as Hilton OnQ Micros Opera PMS Fidelio OPERA Reservation System ORS Holidex Completed courses and seminars in customer service sales strategies inventory control loss prevention safety time management leadership and performance assessment Experience HR AdministratorMarketing AssociateHR Administrator Dec 2013 to Current Company Name City State Helps to develop policies directs and coordinates activities such as employment compensation labor relations benefits training and employee services Prepares employee separation notices and related documentation Keeps records of benefits plans participation such as insurance and pension plan personnel transactions such as hires promotions transfers performance reviews and terminations and employee statistics for government reporting Advises management in appropriate resolution of employee relations issues Administers benefits programs such as life health dental insurance pension plans vacation sick leave leave of absence and employee assistance Marketing Associate Designed and created marketing collateral for sales meetings trade shows and company executives Managed the in house advertising program consisting of print and media collateral pieces Assisted in the complete design and launch of the companys website in 2 months Created an official company page on Facebook to facilitate interaction with customers Analyzed ratings and programming features of competitors to evaluate the effectiveness of marketing strategies Advanced Medical Claims Analyst Mar 2012 to Dec 2013 Company Name City State Reviewed medical bills for the accuracy of the treatments tests and hospital stays prior to sanctioning the claims Trained to interpret the codes ICD 9 CPT and terminology commonly used in medical billing to fully understand the paperwork that is submitted by healthcare providers Required to have organizational and analytical skills as well as computer skills knowledge of medical terminology and procedures statistics billing standards data analysis and laws regarding medical billing Assistant General Manager Jun 2010 to Dec 2010 Company Name City State Performed duties including but not limited to budgeting and financial management accounting human resources payroll and purchasing Established and maintained close working relationships with all departments of the hotel to ensure maximum operation productivity morale and guest service Handled daily operations and reported directly to the corporate office Hired and trained staff on overall objectives and goals with an emphasis on high customer service Marketing and Advertising working on public relations with the media government and local businesses and Chamber of Commerce Executive Support Marketing Assistant Jul 2007 to Jun 2010 Company Name City State Provided assistance to various department heads Executive Marketing Customer Service Human Resources Managed front end operations to ensure friendly and efficient transactions Ensured the swift resolution of customer issues to preserve customer loyalty while complying with company policies Exemplified the second to none customer service delivery in all interactions with customers and potential clients Reservation Front Office Manager Jun 2004 to Jul 2007 Company Name City State Owner Partner Dec 2001 to May 2004 Company Name City State Price Integrity Coordinator Aug 1999 to Dec 2001 Company Name City State Education NA Business Administration 1999 Jefferson College City State Business Administration Marketing Advertising High School Diploma College Prep studies 1998 Sainte Genevieve Senior High City State Awarded American Shrubel Leadership Scholarship to Jefferson College Skills Accounting ads advertising analytical skills benefits billing budgeting clients Customer Service data analysis delivery documentation employee relations financial management government relations Human Resources insurance labor relations layout Marketing marketing collateral medical billing medical terminology office organizational payroll performance reviews personnel policies posters presentations public relations purchasing reporting statistics website '"
      ]
     },
     "execution_count": 72,
     "metadata": {},
     "output_type": "execute_result"
    }
   ],
   "source": [
    "df['Resume_str'][0]"
   ]
  },
  {
   "cell_type": "markdown",
   "id": "d1eadc06",
   "metadata": {},
   "source": [
    "# change into Categorical "
   ]
  },
  {
   "cell_type": "code",
   "execution_count": 73,
   "id": "72994ec0",
   "metadata": {},
   "outputs": [],
   "source": [
    "from sklearn.preprocessing import LabelEncoder\n",
    "le = LabelEncoder()"
   ]
  },
  {
   "cell_type": "code",
   "execution_count": 74,
   "id": "af36ab05",
   "metadata": {},
   "outputs": [],
   "source": [
    "le.fit(df['Category'])\n",
    "df['Category'] = le.transform(df['Category'])"
   ]
  },
  {
   "cell_type": "code",
   "execution_count": 75,
   "id": "0c4bd0dc",
   "metadata": {},
   "outputs": [
    {
     "data": {
      "text/plain": [
       "array([19, 13, 20, 23,  1,  9, 18, 17,  2,  8, 22, 12, 14,  5, 10, 16,  3,\n",
       "       15,  0, 11, 21,  7,  4,  6])"
      ]
     },
     "execution_count": 75,
     "metadata": {},
     "output_type": "execute_result"
    }
   ],
   "source": [
    "df.Category.unique()"
   ]
  },
  {
   "cell_type": "code",
   "execution_count": 76,
   "id": "d0e3603a",
   "metadata": {},
   "outputs": [],
   "source": [
    "from sklearn.feature_extraction.text import TfidfVectorizer\n",
    "tfidf = TfidfVectorizer()\n",
    "\n",
    "tfidf.fit(df['Resume_str'])\n",
    "requredTaxt  = tfidf.transform(df['Resume_str'])"
   ]
  },
  {
   "cell_type": "markdown",
   "id": "63d3c383",
   "metadata": {},
   "source": [
    "# Train & Test Split"
   ]
  },
  {
   "cell_type": "code",
   "execution_count": 77,
   "id": "0f67afa8",
   "metadata": {},
   "outputs": [],
   "source": [
    "from sklearn.model_selection import train_test_split"
   ]
  },
  {
   "cell_type": "code",
   "execution_count": 78,
   "id": "ab60004d",
   "metadata": {},
   "outputs": [],
   "source": [
    "X_train, X_test, y_train, y_test = train_test_split(requredTaxt, df['Category'], test_size=0.2, random_state=42)"
   ]
  },
  {
   "cell_type": "code",
   "execution_count": 79,
   "id": "8d542f0f",
   "metadata": {},
   "outputs": [
    {
     "data": {
      "text/plain": [
       "(1987, 56647)"
      ]
     },
     "execution_count": 79,
     "metadata": {},
     "output_type": "execute_result"
    }
   ],
   "source": [
    "X_train.shape"
   ]
  },
  {
   "cell_type": "code",
   "execution_count": 80,
   "id": "bc6048f4",
   "metadata": {},
   "outputs": [
    {
     "data": {
      "text/plain": [
       "(497, 56647)"
      ]
     },
     "execution_count": 80,
     "metadata": {},
     "output_type": "execute_result"
    }
   ],
   "source": [
    "X_test.shape"
   ]
  },
  {
   "cell_type": "markdown",
   "id": "e06b1be4",
   "metadata": {},
   "source": [
    "# Accuracy Score"
   ]
  },
  {
   "cell_type": "code",
   "execution_count": 81,
   "id": "d24938b1",
   "metadata": {},
   "outputs": [
    {
     "name": "stdout",
     "output_type": "stream",
     "text": [
      "0.4647887323943662\n"
     ]
    }
   ],
   "source": [
    "from sklearn.neighbors import KNeighborsClassifier\n",
    "from sklearn.multiclass import OneVsRestClassifier\n",
    "from sklearn.metrics import accuracy_score\n",
    "\n",
    "clf = OneVsRestClassifier(KNeighborsClassifier())\n",
    "clf.fit(X_train,y_train)\n",
    "ypred = clf.predict(X_test)\n",
    "print(accuracy_score(y_test,ypred))"
   ]
  },
  {
   "cell_type": "code",
   "execution_count": 82,
   "id": "aa41007d",
   "metadata": {},
   "outputs": [
    {
     "data": {
      "text/plain": [
       "array([12, 14, 11, 10, 12, 18, 13,  9, 23, 13, 15, 18, 22,  8, 22, 18, 16,\n",
       "       12, 19, 12, 13, 19, 13,  9, 14,  9,  3, 18, 20, 18,  5, 12,  0,  9,\n",
       "       12, 20, 18, 10, 15, 17, 12, 20, 13, 20, 19,  0, 23, 12, 10,  9, 10,\n",
       "       12, 10, 18, 17,  9,  9, 22,  3, 21,  9, 10, 12, 12, 18,  9, 19, 23,\n",
       "       18, 11, 15, 22, 21, 22,  6,  6, 20, 16, 18, 20,  9, 12, 10,  6,  9,\n",
       "        6, 18, 23, 21, 11, 15,  0, 20, 19, 22, 18,  0, 23,  0, 16, 18,  3,\n",
       "       23, 14, 20, 22, 14, 12, 12, 12, 15, 23, 18,  9, 21, 16, 14, 11, 14,\n",
       "       11, 14, 18, 18, 12, 18, 15,  0, 13, 18,  9, 18,  1, 22, 11,  9,  9,\n",
       "       10,  9, 22, 18, 18, 18, 11,  9, 20, 21, 21, 23, 20, 19,  9, 20, 18,\n",
       "        9,  9,  6, 20, 21, 12, 23, 20,  9, 11, 12, 21, 22,  1, 22, 12,  3,\n",
       "        0, 12, 14, 12, 11, 21,  6, 22, 19, 15,  1, 18, 22, 20, 21, 20, 13,\n",
       "       12, 17, 15, 22, 18, 13, 10, 16, 17, 12, 12, 14, 20, 18,  9,  6, 15,\n",
       "       11,  0, 20, 20, 16, 15, 22, 23, 20,  0, 12, 16, 12,  6, 11,  0, 10,\n",
       "        1,  9, 18, 10, 20, 21, 19, 21,  0, 14, 17, 12, 15, 16,  0, 22,  7,\n",
       "       23,  3, 15, 14, 21,  0, 12,  9, 20, 12, 12,  0, 12,  9, 22, 21, 20,\n",
       "       14, 13, 13, 18,  3, 12, 11, 20, 21, 12,  7, 21, 18, 11,  9, 18, 22,\n",
       "       21, 22,  3, 19, 18,  9,  4, 23,  2, 20, 15, 12, 13, 12, 13, 20, 21,\n",
       "       18, 10, 19, 21,  0, 23,  9, 13, 20, 14, 11,  9, 12, 21, 18, 20,  9,\n",
       "       11, 19, 22, 21, 23, 12, 12, 12, 15, 12, 19,  9, 22, 17, 22, 23, 16,\n",
       "       22, 20, 11, 11, 18, 10, 22, 12,  9, 14, 11, 20, 12,  7, 21,  0, 15,\n",
       "       15, 15, 14,  9, 22, 10, 23, 14,  1, 19, 23, 12, 16, 14, 15, 23, 18,\n",
       "       11, 11,  9,  3,  9,  9, 19, 19, 12, 15,  0, 19, 11, 12, 18, 22, 20,\n",
       "       19, 21, 21, 16, 19, 18,  9, 18,  0, 16, 23, 19, 20, 23,  9, 15, 15,\n",
       "        0, 10, 13, 20,  9, 12, 21, 23, 23, 19,  0, 12, 16, 19, 12, 23, 23,\n",
       "       16,  9,  4,  0,  9,  9, 16, 13, 18, 22, 13, 12, 23, 22, 17, 12, 19,\n",
       "        0, 19,  1, 20, 15, 16,  0,  1,  0, 12,  7, 12, 20,  3, 18, 18, 18,\n",
       "       12, 16, 23, 23, 18, 21, 20, 10,  5, 23, 22, 15,  0, 17, 20, 23,  0,\n",
       "       16, 22, 17, 20, 20,  0, 21, 12, 23, 11,  6,  9, 12, 18, 11, 17,  0,\n",
       "       13, 18, 19, 11, 12, 10,  6, 19, 21, 20,  1, 12, 23, 23,  7,  0, 23,\n",
       "        0, 18, 15, 11])"
      ]
     },
     "execution_count": 82,
     "metadata": {},
     "output_type": "execute_result"
    }
   ],
   "source": [
    "ypred"
   ]
  },
  {
   "cell_type": "code",
   "execution_count": 83,
   "id": "716d3471",
   "metadata": {},
   "outputs": [],
   "source": [
    "import pickle\n",
    "with open(r\"C:\\Users\\surya\\Desktop\\guvi\\NLP\\tfidf.pkl\", 'wb') as file:\n",
    "    pickle.dump(tfidf,file)\n",
    "with open(r\"C:\\Users\\surya\\Desktop\\guvi\\NLP\\clf.pkl\", 'wb') as file:\n",
    "    pickle.dump(clf,file)\n"
   ]
  },
  {
   "cell_type": "code",
   "execution_count": 84,
   "id": "3b6b258a",
   "metadata": {},
   "outputs": [],
   "source": [
    "myresume = df['Resume_str'][3]"
   ]
  },
  {
   "cell_type": "code",
   "execution_count": 85,
   "id": "843c75ab",
   "metadata": {},
   "outputs": [
    {
     "data": {
      "text/plain": [
       "' HR SPECIALIST Summary Dedicated Driven and Dynamic with over 20 years of customer service expertise Motivated to maintain customer satisfaction and contribute to company success with an emphasis in personnel and process management Solid team player with proven ability to establish rapport with clients Skills Type 50 wpm and 10 Key by touch Microsoft programs Word Excel Access Outlook PowerPoint Personnel management and Telephone inquiries specialist Excellent customer service skills with call quality and customer satisfaction as primary focus Inbound and Outbound contact center experience Excellent oral and written presentation and seasoned in conflict resolution Experience Hr Specialist May 2007 to Oct 2008 Company Name City State Accenture Peopleline Email Management Team Received inbound emails from clients as initial point of contact to answer questions related to HR policies practices or to resolve issues Helped the client by answering their inquiry resolving their issue or routing their email to a caseworker for resolution Recorded and tracked the client issue via the case management tool from initiation to resolution Maintained records of customer interactions and transactions by documenting details of inquiries complaints and comments as well as actions taken Customer Service Representative Mar 2007 to Feb 2008 Company Name City State Maintained records of customer interactions and transactions by documenting details of inquiries complaints and comments as well as actions taken Developed and implemented filing and delivery methods for FMLA and Short Term Disability documentation to respective global clientele Facilitated communication for the Absence Management Team to clients and internal departmental teams Organized and maintained payroll and people services database management system Communicated to clients and internalexternal departmental teams mitigated risks and resolutions regarding policy transactions and other queries Call Centre Shift Supervisor Aug 2003 to Mar 2007 Company Name City State Answered and Dispatched calls for Medical and Professional clients in the San Antonio and surrounding areas Provided call monitoring to ensure staff was adhering to quality call control Maintained On Call books for various medical staff to ensure that the correct staff was contacted during after hours and weekends Education and Training Certificate of CompletionBusiness Administration 1997 Texas AM Extension Services City State Skills 10 Key by touch Type 50 wpm filing Access Microsoft Excel Microsoft Outlook Microsoft PowerPoint Microsoft Word '"
      ]
     },
     "execution_count": 85,
     "metadata": {},
     "output_type": "execute_result"
    }
   ],
   "source": [
    "myresume"
   ]
  },
  {
   "cell_type": "code",
   "execution_count": 86,
   "id": "6ccfb164",
   "metadata": {},
   "outputs": [
    {
     "name": "stdout",
     "output_type": "stream",
     "text": [
      "Predicted Category: HR\n",
      "19\n"
     ]
    }
   ],
   "source": [
    "with open(r\"C:\\Users\\surya\\Desktop\\guvi\\NLP\\clf.pkl\", 'rb') as file:\n",
    "    pickle.load(file) \n",
    "cleaned_resume = NewResume(myresume)\n",
    "input_features = tfidf.transform([cleaned_resume])\n",
    "prediction_id = clf.predict(input_features)[0]\n",
    "category_mapping = {\n",
    "    19: \"HR\",\n",
    "    13: \"DESIGNER\",\n",
    "    20: \"INFORMATION-TECHNOLOGY\",\n",
    "    23: \"TEACHER\",\n",
    "    1: \"ADVOCATE\",\n",
    "    9: \"BUSINESS-DEVELOPMENT\",\n",
    "    18: \"HEALTHCARE\",\n",
    "    17: \"FITNESS\",\n",
    "    2: \"AGRICULTURE\",\n",
    "    8: \"BPO\",\n",
    "    22: \"SALES\",\n",
    "    12: \"CONSULTANT\",\n",
    "    14: \"DIGITAL-MEDIA\",\n",
    "    5: \"AUTOMOBILE\",\n",
    "    10: \"CHEF\",\n",
    "    16: \"FINANCE\",\n",
    "    3: \"APPAREL\",\n",
    "    15: \"ENGINEERING\",\n",
    "    0: \"ACCOUNTANT\",\n",
    "    11: \"CONSTRUCTION\",\n",
    "    21: \"PUBLIC-RELATIONS\",\n",
    "    7: \"BANKING\",\n",
    "    4: \"ARTS\",\n",
    "    6: \"AVIATION\"\n",
    "}\n",
    "\n",
    "category_name = category_mapping.get(prediction_id, \"Unknown\")\n",
    "\n",
    "print(\"Predicted Category:\", category_name)\n",
    "print(prediction_id)"
   ]
  },
  {
   "cell_type": "code",
   "execution_count": 91,
   "id": "94f2f88f",
   "metadata": {},
   "outputs": [],
   "source": [
    "myresume = df['Resume_str'][129]"
   ]
  },
  {
   "cell_type": "code",
   "execution_count": 92,
   "id": "f9c1b229",
   "metadata": {},
   "outputs": [
    {
     "data": {
      "text/plain": [
       "' INDEPENDENT DESIGNER Professional Summary Independent and results driven Design Professional with an extensive background in the design process Proficient in taking initiative along with a desire to achieve client satisfaction for a record of accomplished results Skills Space Planning Workplace Strategy Project Coordination FFE Expertise Problem Resolution ADA Building Codes Written Verbal Communication Product Specification AutoCAD MS Office Suite Salesforce ADA Specification AutoCAD Strategy Budgets Verbal Communication Change management Written COUNCIL Creativity Customer satisfaction Direction Documentation Innovation Interior design Team lead Leadership Materials Meetings MS Office Suite Office Organizational Personnel Presentations Problem Resolution Processes Procurement Programming Project Coordination Real Estate Retail Sales Space Planning Work History INDEPENDENT DESIGNER 042020 to Current Company Name City State Create Site and Fixture Plans utilizing AutoCAD for Walgreens Chipotle and Aspen Dental for use by Real Estate Developers and Property Investors Perform on site surveys to produce AutoCAD floor plan drawings of existing spaces for electronic documentation in addition to providing space improvement solutions and options SPECIFICATIONS MANAGER 012015 to 032020 Company Name City State Traveled extensively throughout my territory creating and conducting product presentationsmeetings for Architects Designers Builders Furniture Manufacturers Facility Managers Retail and Commercial End Users Initiated new business and grew existing accounts by 40 percent while maintainingnurturing relationships Identified and targeted high value projects in planning stages to drive specifications resulting in exceeded sales goals WORKPLACE CONSULTANT 012003 to 012015 Company Name City State Worked as team lead in creating well connected workplaces utilizing design processes from programming and design analysis to space planning and aesthetics while adhering to applicable building and ADA codes Reduced Office Real Estate by introducing new ways of working by making use of change management skills Introduced to stake holders organizational agility and flexibility resulting in improved communication collaboration creativity innovation and employee satisfaction Developed Corporate wide standards for efficiency of space management and procurement Supervised furniture installation materials and equipment for large commercial projects with budgets in excess of 1000000 Coordinated projects ranging from 1000 sf up to 1000000 sf throughout Corporate Real Estate portfolio Provided leadership in planning development and execution of large personnel relocations and reconfigurations resulting in successful and timely completion minimum disruption and successful customer satisfaction based on post occupancy evaluations SENIOR INTERIOR DESIGNER 011994 to 012003 Company Name City State Utilized interior design process across conceptual schematic design development and construction document phases Created professional presentations to communicate design intent and direction Education Bachelor of Arts Interior Design IOWA STATE UNIVERSITY OF SCIENCE AND TECHNOLOGY City State NATIONAL COUNCIL FOR INTERIOR DESIGN QUALIFICATIONCertificate 009891 Work History INDEPENDENT DESIGNER 042020 to Current Company Name City State Create Site and Fixture Plans utilizing AutoCAD for Walgreens Chipotle and Aspen Dental for use by Real Estate Developers and Property Investors Perform on site surveys to produce AutoCAD floor plan drawings of existing spaces for electronic documentation in addition to providing space improvement solutions and options SPECIFICATIONS MANAGER 012015 to 032020 Company Name City State Traveled extensively throughout my territory creating and conducting product presentationsmeetings for Architects Designers Builders Furniture Manufacturers Facility Managers Retail and Commercial End Users Initiated new business and grew existing accounts by 40 percent while maintainingnurturing relationships Identified and targeted high value projects in planning stages to drive specifications resulting in exceeded sales goals WORKPLACE CONSULTANT 012003 to 012015 Company Name City State Worked as team lead in creating well connected workplaces utilizing design processes from programming and design analysis to space planning and aesthetics while adhering to applicable building and ADA codes Reduced Office Real Estate by introducing new ways of working by making use of change management skills Introduced to stake holders organizational agility and flexibility resulting in improved communication collaboration creativity innovation and employee satisfaction Developed Corporate wide standards for efficiency of space management and procurement Supervised furniture installation materials and equipment for large commercial projects with budgets in excess of 1000000 Coordinated projects ranging from 1000 sf up to 1000000 sf throughout Corporate Real Estate portfolio Provided leadership in planning development and execution of large personnel relocations and reconfigurations resulting in successful and timely completion minimum disruption and successful customer satisfaction based on post occupancy evaluations SENIOR INTERIOR DESIGNER 011994 to 012003 Company Name City State Utilized interior design process across conceptual schematic design development and construction document phases Created professional presentations to communicate design intent and direction Skills Space Planning Workplace Strategy Project Coordination FFE Expertise Problem Resolution ADA Building Codes WWritten Verbal Communication Product Specification AutoCAD MS Office Suite Salesforce ADA AutoCAD budgets change management COUNCIL creativity customer satisfaction direction documentation innovation interior design team lead leadership materials meetings MS Office Suite Office organizational personnel presentations Problem Resolution processes procurement programming Project Coordination Real Estate Retail sales Space Planning Specification Strategy Verbal Communication Written Additional Information STATE OF ILLINOIS LICENSE Registered Interior Designer 161000401 '"
      ]
     },
     "execution_count": 92,
     "metadata": {},
     "output_type": "execute_result"
    }
   ],
   "source": [
    "myresume"
   ]
  },
  {
   "cell_type": "code",
   "execution_count": 93,
   "id": "b647d595",
   "metadata": {},
   "outputs": [
    {
     "name": "stdout",
     "output_type": "stream",
     "text": [
      "Predicted Category: DESIGNER\n",
      "13\n"
     ]
    }
   ],
   "source": [
    "with open(r\"C:\\Users\\surya\\Desktop\\guvi\\NLP\\clf.pkl\", 'rb') as file:\n",
    "    pickle.load(file) \n",
    "cleaned_resume = NewResume(myresume)\n",
    "input_features = tfidf.transform([cleaned_resume])\n",
    "prediction_id = clf.predict(input_features)[0]\n",
    "category_mapping = {\n",
    "    19: \"HR\",\n",
    "    13: \"DESIGNER\",\n",
    "    20: \"INFORMATION-TECHNOLOGY\",\n",
    "    23: \"TEACHER\",\n",
    "    1: \"ADVOCATE\",\n",
    "    9: \"BUSINESS-DEVELOPMENT\",\n",
    "    18: \"HEALTHCARE\",\n",
    "    17: \"FITNESS\",\n",
    "    2: \"AGRICULTURE\",\n",
    "    8: \"BPO\",\n",
    "    22: \"SALES\",\n",
    "    12: \"CONSULTANT\",\n",
    "    14: \"DIGITAL-MEDIA\",\n",
    "    5: \"AUTOMOBILE\",\n",
    "    10: \"CHEF\",\n",
    "    16: \"FINANCE\",\n",
    "    3: \"APPAREL\",\n",
    "    15: \"ENGINEERING\",\n",
    "    0: \"ACCOUNTANT\",\n",
    "    11: \"CONSTRUCTION\",\n",
    "    21: \"PUBLIC-RELATIONS\",\n",
    "    7: \"BANKING\",\n",
    "    4: \"ARTS\",\n",
    "    6: \"AVIATION\"\n",
    "}\n",
    "\n",
    "category_name = category_mapping.get(prediction_id, \"Unknown\")\n",
    "\n",
    "print(\"Predicted Category:\", category_name)\n",
    "print(prediction_id)"
   ]
  },
  {
   "cell_type": "code",
   "execution_count": 97,
   "id": "c7a921f2",
   "metadata": {},
   "outputs": [],
   "source": [
    "myresume = df['Resume_str'][2000]"
   ]
  },
  {
   "cell_type": "code",
   "execution_count": 98,
   "id": "08922917",
   "metadata": {},
   "outputs": [
    {
     "data": {
      "text/plain": [
       "' ASSISTANT PROJECT MANAGERDESIGN BUILD CONSTRUCTION COORDINATOR Summary Highly motivated Civil Engineer with 16 years of experience working for one of North Americas largest and most respected construction and engineering organizations with revenues of more than 11 billion and consistently ranking among the top five contractors by Engineering News Record My experience with Kiewit has prepared me to successfully plan and execute projects while promoting safety quality schedule and cost performance My career experience ranges from construction design coordinator on a multi billion dollar design build project to on site project engineering and project management for self performing heavy civil construction work ranging from 545 million to 31 million dollars Excellent communicator skilled in construction means and methods cost controls scheduling claims analysis and contract administration As the Field Engineer and Project Controls Manager on one of the largest design build project in Maryland she manages approximately 1000 WBS activities on a P6 schedule Even after a six month delay in the award of the project the project will be substantially complete on the original completion date Clara coordinates on a daily basis incoming and outgoing correspondence a cost loaded CPM RFIs modifications change orders and unforeseen field conditions that required redesign and schedule modifications to adhere to a hard completion date Highlights Hard Dollar Estimating Training Expedition Centric Viewpoint Constructware Accomplishments Sixteen years of experience working for one of North Americas largest and most respected construction and engineering organizations Responsible for the successful strategy development and execution of time related impact analysis resulting in a 26 million net change to the contract Even after a six month delay in the award of the project the project was substantially complete on the original completion date Responsible for the development and execution of a dirt flow impact analysis resulting in a 2 million net change to the contract Developed a successful plan to rephase the bridge construction on a highly traveled weather damaged interstate so that the traffic could be shifted onto the new construction prior to the winter season Project controls Manager for all document control and as built deliverables for over 200 miles of Fiber Optic Network Installation Experience 092013 to Current Assistant Project ManagerDesign Build Construction Coordinator Company Name City State 062011 to 092013 Project Contract Administration Manager Company Name City State Intercounty Connector Segment B 550 million Maryland State Highway Administration MDSHA consisted of the construction of seven miles of new six lane toll road The work included 24 million cy of excavation 17 million cy of embankment 500000 sy of new pavement section 65000 sy of MSE walls over 80000 LF of drainage and 15 bridges totaling over 600000 sf of deck with bridge spans reaching up to 207 lf Evaluated and mitigated cost for both the owner and contractor when changes occurred to the design build contract Negotiated change orders up to 26 million Oversaw project controls on one of the largest design build projects in Maryland Managed approximately 1000 WBS activities on a P6 schedule Coordinated incoming and outgoing correspondence a cost loaded CPM RFIs modifications change orders and unforeseen field conditions that required redesign and schedule modifications to adhere to a hard completion date 032008 to 062011 Structures Project Engineer Company Name City State I 95I 495 Interchange at Telegraph Road 256 million VDOT consists of the recontruction of I 495 interchange at Telegraph Road in Alexandria The work included 500000 cy of excavation 321000 sf of new pavement 39000 lf of drainage 400000 sy of base and overlays 23 retaining and MSE walls 4 soundwalls 11 AASHTOSteel girder rampsbridges totaling 380000 sf of deck 5 box culvert extensions Overall direction safety quality schedule and cost performance of structural operations Planned and executed work procedures and coordinated various phases of construction for bridge widenings Designed all substructure and superstructure formwork for the multi phased bridges Prepared job const projections reviewed and approved pay estimates and invoices Procured and coordinated delivery for all structural materials Negotiated 2 million dollar net change to the project Oversaw project close out 082007 to 032008 Estimator Company Name City State 032007 to 032008 Structures SuperintendentDesign Coordinator Company Name City State Design Build I 95 Widening and Reconstruction 170 million Florida Department of Transportation FDOT DISTRICT 5 consists of widening 10 miles of the existing I 95 four lane interstate highway to a six lane interstate highway in Brevard County FL The work consisted of 15000 lf of 18 concrete pile 2500 c of structures concrete 2900 lf of AASHTO girders 50000 lf of median storm drain pipe and 174000 lf of underdrain Overall excavation to embankment was in excess of 585000 cy along with 435000 sy of stabilization and 280000 sy of optional base Oversaw design coordination of 3 design build bridge widenings Developed best means and methods to construct this challenging project Supervised the construction of the bridge widenings and planned and executed work plans and coordinated the various phases of construction 082004 to 032007 Structures Superintendent Company Name City State Western Beltway Project 562 million Florida Turnpike Authority consists of the construction of 7 AASHTO bridges 2 bridge overpasses 2 Signature soundwalls 6 ramp toll facilities 2 mainline toll plazas grading of approximately 25M cy of dirt asphalt paving drainage as well as electrical and signage work Created 90 day and 3 week schedules for all structures operations Supervised the construction of the AASHTO bridges and signature walls with over 100000 manhours accident free Planned and executed all structural field operations 092001 to 122004 Stations Project Engineer Company Name City State Douglas Line Renovation Project 351 million Chicago Transit Authority consisted of the renovation of six elevated train stations 2 at grade stations and 5 miles of track Oversight and coordination of 15 subcontractors on the architectural elements within the passenger stations Drafted subcontracts and material contracts for the project Responsible for the review and approval of pay estimates and invoices Quality Control over the final work product Prepared submittals and RFIs Procured permits from the City of Chicago Building Department Negotiated change orders 122002 to 082004 Structures OfficeField Engineer Company Name City State Dublin I 16 101 million Georgia Department of Transportation GDOT 082000 to 092001 Field SuperintendentProject Controls Manager Company Name City State Level 3 Communications Fiber Optic Network Project 415 million Level3 Installation from Atlanta GA to Birmingham AL Coordinated and scheduled subcontractor operations for trenching directional boring and equipment installation for over 150 miles Prepared weekly construction status reports Acting client representative for private property acquisitions and obtaining easements Verification of installed quantities for invoice approval and payment equipment purchase and coordination of delivery for on time installation Managed all document control and as built turnover to the client for the entire project from Florida to North Carolina 081999 to 082000 Field Engineer Company Name City State Howard Street Track Reconstruction 31 million City of Baltimore Light Rail and ODonnell Street Viaduct 103 million Maryland Department of Transportation On site quality control inspection for the horizontal vertical rail alignment Production of progress updates for the client Quality Control and oversight of self perform crews pouring bridge decks Education 1999 BS Civil Engineering University of Kentucky City State US Civil Engineering Clara Newsom Assistant Project Manager Skills bridges contracts delivery direction Engineer framing HVAC lighting managing materials access 31 Network Installation painting plumbing procurement project plans quality quality control safety sound supervising supervision Transportation Type III Type II utilities '"
      ]
     },
     "execution_count": 98,
     "metadata": {},
     "output_type": "execute_result"
    }
   ],
   "source": [
    "myresume"
   ]
  },
  {
   "cell_type": "code",
   "execution_count": 99,
   "id": "6908644e",
   "metadata": {},
   "outputs": [
    {
     "name": "stdout",
     "output_type": "stream",
     "text": [
      "Predicted Category: CONSTRUCTION\n",
      "11\n"
     ]
    }
   ],
   "source": [
    "with open(r\"C:\\Users\\surya\\Desktop\\guvi\\NLP\\clf.pkl\", 'rb') as file:\n",
    "    pickle.load(file) \n",
    "cleaned_resume = NewResume(myresume)\n",
    "input_features = tfidf.transform([cleaned_resume])\n",
    "prediction_id = clf.predict(input_features)[0]\n",
    "category_mapping = {\n",
    "    19: \"HR\",\n",
    "    13: \"DESIGNER\",\n",
    "    20: \"INFORMATION-TECHNOLOGY\",\n",
    "    23: \"TEACHER\",\n",
    "    1: \"ADVOCATE\",\n",
    "    9: \"BUSINESS-DEVELOPMENT\",\n",
    "    18: \"HEALTHCARE\",\n",
    "    17: \"FITNESS\",\n",
    "    2: \"AGRICULTURE\",\n",
    "    8: \"BPO\",\n",
    "    22: \"SALES\",\n",
    "    12: \"CONSULTANT\",\n",
    "    14: \"DIGITAL-MEDIA\",\n",
    "    5: \"AUTOMOBILE\",\n",
    "    10: \"CHEF\",\n",
    "    16: \"FINANCE\",\n",
    "    3: \"APPAREL\",\n",
    "    15: \"ENGINEERING\",\n",
    "    0: \"ACCOUNTANT\",\n",
    "    11: \"CONSTRUCTION\",\n",
    "    21: \"PUBLIC-RELATIONS\",\n",
    "    7: \"BANKING\",\n",
    "    4: \"ARTS\",\n",
    "    6: \"AVIATION\"\n",
    "}\n",
    "\n",
    "category_name = category_mapping.get(prediction_id, \"Unknown\")\n",
    "\n",
    "print(\"Predicted Category:\", category_name)\n",
    "print(prediction_id)"
   ]
  },
  {
   "cell_type": "code",
   "execution_count": null,
   "id": "57aa337c",
   "metadata": {},
   "outputs": [],
   "source": []
  }
 ],
 "metadata": {
  "kernelspec": {
   "display_name": "Python 3 (ipykernel)",
   "language": "python",
   "name": "python3"
  },
  "language_info": {
   "codemirror_mode": {
    "name": "ipython",
    "version": 3
   },
   "file_extension": ".py",
   "mimetype": "text/x-python",
   "name": "python",
   "nbconvert_exporter": "python",
   "pygments_lexer": "ipython3",
   "version": "3.9.13"
  }
 },
 "nbformat": 4,
 "nbformat_minor": 5
}
